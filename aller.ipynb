{
 "cells": [
  {
   "cell_type": "code",
   "id": "initial_id",
   "metadata": {
    "collapsed": true,
    "ExecuteTime": {
     "end_time": "2025-03-15T17:06:30.129611Z",
     "start_time": "2025-03-15T17:06:30.113612Z"
    }
   },
   "source": [
    "# Feuille de travail qui calcul automatiquement la ventilation des emprunts, les intérêts...\n",
    "\n",
    "import pandas as pd\n",
    "\n",
    "clot = pd.to_datetime(\"31/12/2024\", dayfirst=True)\n",
    "today = pd.to_datetime(\"25/01/2025\", dayfirst=True)\n",
    "\n",
    "compte = [51200, 51201, 51202]\n",
    "IdPret = [1, 2, 3]\n",
    "Type = [\"InFine\", \"Amortissable\", \"Amortissable\"]\n",
    "DateDebut = [\"20/04/2020\", \"31/12/2023\", \"01/01/2010\"]\n",
    "DateDebut = pd.to_datetime(DateDebut, dayfirst=True)\n",
    "DateEcheance = [\"20/04/2027\", \"31/12/2026\", \"01/01/2030\"]\n",
    "DateEcheance = pd.to_datetime(DateEcheance, dayfirst=True)\n",
    "Interet = [0.03, 0.02, 0.05]\n",
    "df = pd.DataFrame({\"compte\":compte, \"IdPret\":IdPret, \"Type\":Type, \"DateDebut\":DateDebut, \"DateEcheance\":DateEcheance, \"interet\":Interet})\n",
    "df"
   ],
   "outputs": [
    {
     "data": {
      "text/plain": [
       "   compte  IdPret          Type  DateDebut DateEcheance  interet\n",
       "0   51200       1        InFine 2020-04-20   2027-04-20     0.03\n",
       "1   51201       2  Amortissable 2023-12-31   2026-12-31     0.02\n",
       "2   51202       3  Amortissable 2010-01-01   2030-01-01     0.05"
      ],
      "text/html": [
       "<div>\n",
       "<style scoped>\n",
       "    .dataframe tbody tr th:only-of-type {\n",
       "        vertical-align: middle;\n",
       "    }\n",
       "\n",
       "    .dataframe tbody tr th {\n",
       "        vertical-align: top;\n",
       "    }\n",
       "\n",
       "    .dataframe thead th {\n",
       "        text-align: right;\n",
       "    }\n",
       "</style>\n",
       "<table border=\"1\" class=\"dataframe\">\n",
       "  <thead>\n",
       "    <tr style=\"text-align: right;\">\n",
       "      <th></th>\n",
       "      <th>compte</th>\n",
       "      <th>IdPret</th>\n",
       "      <th>Type</th>\n",
       "      <th>DateDebut</th>\n",
       "      <th>DateEcheance</th>\n",
       "      <th>interet</th>\n",
       "    </tr>\n",
       "  </thead>\n",
       "  <tbody>\n",
       "    <tr>\n",
       "      <th>0</th>\n",
       "      <td>51200</td>\n",
       "      <td>1</td>\n",
       "      <td>InFine</td>\n",
       "      <td>2020-04-20</td>\n",
       "      <td>2027-04-20</td>\n",
       "      <td>0.03</td>\n",
       "    </tr>\n",
       "    <tr>\n",
       "      <th>1</th>\n",
       "      <td>51201</td>\n",
       "      <td>2</td>\n",
       "      <td>Amortissable</td>\n",
       "      <td>2023-12-31</td>\n",
       "      <td>2026-12-31</td>\n",
       "      <td>0.02</td>\n",
       "    </tr>\n",
       "    <tr>\n",
       "      <th>2</th>\n",
       "      <td>51202</td>\n",
       "      <td>3</td>\n",
       "      <td>Amortissable</td>\n",
       "      <td>2010-01-01</td>\n",
       "      <td>2030-01-01</td>\n",
       "      <td>0.05</td>\n",
       "    </tr>\n",
       "  </tbody>\n",
       "</table>\n",
       "</div>"
      ]
     },
     "execution_count": 2,
     "metadata": {},
     "output_type": "execute_result"
    }
   ],
   "execution_count": 2
  },
  {
   "metadata": {
    "ExecuteTime": {
     "end_time": "2025-01-29T19:37:05.370525Z",
     "start_time": "2025-01-29T19:37:05.363019Z"
    }
   },
   "cell_type": "code",
   "source": [
    "fd = pd.DataFrame({\n",
    "    \"colun\":[\"z\", \"z\", \"a\"],\n",
    "    \"coldeu\":[\"y\", \"b\", \"c\"]\n",
    "})\n",
    "\n",
    "fruits = {\"a\":1, \"b\":2, \"c\":3}\n",
    "\n",
    "fd.replace(fruits, inplace=True)\n",
    "\n",
    "fd"
   ],
   "id": "3c57baf7e82d9b95",
   "outputs": [
    {
     "data": {
      "text/plain": [
       "  colun coldeu\n",
       "0     z      y\n",
       "1     z      2\n",
       "2     1      3"
      ],
      "text/html": [
       "<div>\n",
       "<style scoped>\n",
       "    .dataframe tbody tr th:only-of-type {\n",
       "        vertical-align: middle;\n",
       "    }\n",
       "\n",
       "    .dataframe tbody tr th {\n",
       "        vertical-align: top;\n",
       "    }\n",
       "\n",
       "    .dataframe thead th {\n",
       "        text-align: right;\n",
       "    }\n",
       "</style>\n",
       "<table border=\"1\" class=\"dataframe\">\n",
       "  <thead>\n",
       "    <tr style=\"text-align: right;\">\n",
       "      <th></th>\n",
       "      <th>colun</th>\n",
       "      <th>coldeu</th>\n",
       "    </tr>\n",
       "  </thead>\n",
       "  <tbody>\n",
       "    <tr>\n",
       "      <th>0</th>\n",
       "      <td>z</td>\n",
       "      <td>y</td>\n",
       "    </tr>\n",
       "    <tr>\n",
       "      <th>1</th>\n",
       "      <td>z</td>\n",
       "      <td>2</td>\n",
       "    </tr>\n",
       "    <tr>\n",
       "      <th>2</th>\n",
       "      <td>1</td>\n",
       "      <td>3</td>\n",
       "    </tr>\n",
       "  </tbody>\n",
       "</table>\n",
       "</div>"
      ]
     },
     "execution_count": 9,
     "metadata": {},
     "output_type": "execute_result"
    }
   ],
   "execution_count": 9
  }
 ],
 "metadata": {
  "kernelspec": {
   "display_name": "Python 3",
   "language": "python",
   "name": "python3"
  },
  "language_info": {
   "codemirror_mode": {
    "name": "ipython",
    "version": 2
   },
   "file_extension": ".py",
   "mimetype": "text/x-python",
   "name": "python",
   "nbconvert_exporter": "python",
   "pygments_lexer": "ipython2",
   "version": "2.7.6"
  }
 },
 "nbformat": 4,
 "nbformat_minor": 5
}
