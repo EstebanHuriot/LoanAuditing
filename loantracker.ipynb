{
 "cells": [
  {
   "cell_type": "code",
   "id": "initial_id",
   "metadata": {
    "collapsed": true,
    "ExecuteTime": {
     "end_time": "2025-04-16T20:30:09.312675Z",
     "start_time": "2025-04-16T20:30:07.756195Z"
    }
   },
   "source": [
    "\"\"\"Automating the verification processes on loans for financial auditing, the idea is to input each loan data once then the dataframe computes interests, capital...\"\"\"\n",
    "\n",
    "# Creating a dataframe here as an example of the input data, real input will come from an excel spreadsheet\n",
    "# By the way, this whole project can be used directly in excel thanks to the =PY() function\n",
    "import pandas as pd\n",
    "import numpy as np\n",
    "from dateutil.relativedelta import relativedelta\n",
    "\n",
    "clot = pd.to_datetime(\"31/12/2024\", dayfirst=True)\n",
    "today = pd.to_datetime(\"25/01/2025\", dayfirst=True)\n",
    "\n",
    "compte = [51200, 51201, 51202]\n",
    "IdPret = [1, 2, 3]\n",
    "Type = [\"InFine\", \"AmortissableLin\", \"Amortissable\"]\n",
    "DateDebut = [\"20/04/2020\", \"31/12/2023\", \"01/01/2010\"]\n",
    "DateDebut = pd.to_datetime(DateDebut, dayfirst=True)\n",
    "DateEcheance = [\"20/04/2027\", \"31/12/2026\", \"01/01/2030\"]\n",
    "DateEcheance = pd.to_datetime(DateEcheance, dayfirst=True)\n",
    "Interet = [0.03, 0.02, 0.05]\n",
    "Montant = [1000000, 2000000, 50000]\n",
    "df = pd.DataFrame({\"Compte\":compte, \"IdPret\":IdPret, \"Type\":Type, \"DateDebut\":DateDebut, \"DateEcheance\":DateEcheance, \"Int\":Interet, \"Montant\":Montant})\n",
    "df"
   ],
   "outputs": [
    {
     "data": {
      "text/plain": [
       "   Compte  IdPret             Type  DateDebut DateEcheance   Int  Montant\n",
       "0   51200       1           InFine 2020-04-20   2027-04-20  0.03  1000000\n",
       "1   51201       2  AmortissableLin 2023-12-31   2026-12-31  0.02  2000000\n",
       "2   51202       3     Amortissable 2010-01-01   2030-01-01  0.05    50000"
      ],
      "text/html": [
       "<div>\n",
       "<style scoped>\n",
       "    .dataframe tbody tr th:only-of-type {\n",
       "        vertical-align: middle;\n",
       "    }\n",
       "\n",
       "    .dataframe tbody tr th {\n",
       "        vertical-align: top;\n",
       "    }\n",
       "\n",
       "    .dataframe thead th {\n",
       "        text-align: right;\n",
       "    }\n",
       "</style>\n",
       "<table border=\"1\" class=\"dataframe\">\n",
       "  <thead>\n",
       "    <tr style=\"text-align: right;\">\n",
       "      <th></th>\n",
       "      <th>Compte</th>\n",
       "      <th>IdPret</th>\n",
       "      <th>Type</th>\n",
       "      <th>DateDebut</th>\n",
       "      <th>DateEcheance</th>\n",
       "      <th>Int</th>\n",
       "      <th>Montant</th>\n",
       "    </tr>\n",
       "  </thead>\n",
       "  <tbody>\n",
       "    <tr>\n",
       "      <th>0</th>\n",
       "      <td>51200</td>\n",
       "      <td>1</td>\n",
       "      <td>InFine</td>\n",
       "      <td>2020-04-20</td>\n",
       "      <td>2027-04-20</td>\n",
       "      <td>0.03</td>\n",
       "      <td>1000000</td>\n",
       "    </tr>\n",
       "    <tr>\n",
       "      <th>1</th>\n",
       "      <td>51201</td>\n",
       "      <td>2</td>\n",
       "      <td>AmortissableLin</td>\n",
       "      <td>2023-12-31</td>\n",
       "      <td>2026-12-31</td>\n",
       "      <td>0.02</td>\n",
       "      <td>2000000</td>\n",
       "    </tr>\n",
       "    <tr>\n",
       "      <th>2</th>\n",
       "      <td>51202</td>\n",
       "      <td>3</td>\n",
       "      <td>Amortissable</td>\n",
       "      <td>2010-01-01</td>\n",
       "      <td>2030-01-01</td>\n",
       "      <td>0.05</td>\n",
       "      <td>50000</td>\n",
       "    </tr>\n",
       "  </tbody>\n",
       "</table>\n",
       "</div>"
      ]
     },
     "execution_count": 2,
     "metadata": {},
     "output_type": "execute_result"
    }
   ],
   "execution_count": 2
  },
  {
   "metadata": {
    "ExecuteTime": {
     "end_time": "2025-04-16T20:30:12.452685Z",
     "start_time": "2025-04-16T20:30:12.440701Z"
    }
   },
   "cell_type": "code",
   "source": [
    "# Interest\n",
    "df[\"IntEx\"] = df['Montant'] * df['Int']   # je crois qu' elle ne sert à rien si elle n'est pas contreproductive\n",
    "\n",
    "df['Duree'] = (df['DateEcheance'] - df['DateDebut']) / pd.Timedelta(days=365.25)\n",
    "\n",
    "df[\"Frequence\"] = \"Trimestrielle\"\n",
    "print(df)"
   ],
   "id": "3c57baf7e82d9b95",
   "outputs": [
    {
     "name": "stdout",
     "output_type": "stream",
     "text": [
      "   Compte  IdPret             Type  DateDebut DateEcheance   Int  Montant  \\\n",
      "0   51200       1           InFine 2020-04-20   2027-04-20  0.03  1000000   \n",
      "1   51201       2  AmortissableLin 2023-12-31   2026-12-31  0.02  2000000   \n",
      "2   51202       3     Amortissable 2010-01-01   2030-01-01  0.05    50000   \n",
      "\n",
      "     IntEx      Duree      Frequence  \n",
      "0  30000.0   6.997947  Trimestrielle  \n",
      "1  40000.0   3.000684  Trimestrielle  \n",
      "2   2500.0  20.000000  Trimestrielle  \n"
     ]
    }
   ],
   "execution_count": 3
  },
  {
   "metadata": {
    "ExecuteTime": {
     "end_time": "2025-04-16T20:30:14.460408Z",
     "start_time": "2025-04-16T20:30:14.444026Z"
    }
   },
   "cell_type": "code",
   "source": [
    "# Corresponding number of month for each period\n",
    "def Frequence_A_Num(row):\n",
    "    if row['Frequence'] == \"Trimestrielle\":\n",
    "        return 4\n",
    "    elif row['Frequence'] == \"Mensuelle\":\n",
    "        return 12\n",
    "    elif row['Frequence'] == \"Annuelle\":\n",
    "        return 1\n",
    "    elif row['Frequence'] == \"Semestrielle\":\n",
    "        return 2\n",
    "    else:\n",
    "        raise ValueError(\"Fréquence non reconnue\")\n",
    "\n",
    "df['FrequenceN'] = df.apply(Frequence_A_Num, axis=1)\n",
    "\n",
    "# Number of repayments since inception of loan\n",
    "def Nb_Ech_Depuis_Debut(row):\n",
    "    delta = relativedelta(clot, row['DateDebut']) # This function takes into account the fact that dates can be mid-month\n",
    "    return (delta.years * 12 + delta.months) / (12 / row['FrequenceN'])\n",
    "df['NbEchDepuisDebut'] = df.apply(Nb_Ech_Depuis_Debut, axis=1)\n",
    "\n",
    "print(df)"
   ],
   "id": "c3886fd1ceb1601e",
   "outputs": [
    {
     "name": "stdout",
     "output_type": "stream",
     "text": [
      "   Compte  IdPret             Type  DateDebut DateEcheance   Int  Montant  \\\n",
      "0   51200       1           InFine 2020-04-20   2027-04-20  0.03  1000000   \n",
      "1   51201       2  AmortissableLin 2023-12-31   2026-12-31  0.02  2000000   \n",
      "2   51202       3     Amortissable 2010-01-01   2030-01-01  0.05    50000   \n",
      "\n",
      "     IntEx      Duree      Frequence  FrequenceN  NbEchDepuisDebut  \n",
      "0  30000.0   6.997947  Trimestrielle           4         18.666667  \n",
      "1  40000.0   3.000684  Trimestrielle           4          4.000000  \n",
      "2   2500.0  20.000000  Trimestrielle           4         59.666667  \n"
     ]
    }
   ],
   "execution_count": 4
  },
  {
   "metadata": {
    "ExecuteTime": {
     "end_time": "2025-04-16T21:00:08.850488Z",
     "start_time": "2025-04-16T21:00:08.842490Z"
    }
   },
   "cell_type": "code",
   "source": [
    "# Payment during the exercice, differenciated by loan type\n",
    "\n",
    "def CRD(row):\n",
    "    # InFine\n",
    "    if row['Type'] == 'InFine':\n",
    "        if row['DateEcheance'] > clot :\n",
    "            return row['Montant']\n",
    "        else:\n",
    "            return 0\n",
    "    # Amortissable constant (linéaire)\n",
    "    elif row['Type'] == 'AmortissableLin':\n",
    "        Annuite = (row['Montant'] / (row['Duree'] * row['FrequenceN'])) # Remboursement du capital sur une échéance\n",
    "        return row['Montant'] - Annuite * row['NbEchDepuisDebut']\n",
    "\n",
    "    # Echeance constante\n",
    "    elif row['Type'] == 'Amortissable':\n",
    "        TauxParPeriode = row['Int'] / row['FrequenceN'] # Taux périodique actualisé en fonction du nombre d'échéance sur une année\n",
    "        NombreEch = row['Duree'] * row['FrequenceN'] # Nombre total d'échéance de l'emprunt\n",
    "        AnnuiteConstante = row['Montant'] * (TauxParPeriode / (1 - (1 +TauxParPeriode)**-NombreEch)) #Annuité constante\n",
    "        \n",
    "        crd = row['Montant']\n",
    "        for i in range(int(row['NbEchDepuisDebut'])):\n",
    "            interet = crd * TauxParPeriode\n",
    "            capital = AnnuiteConstante - interet\n",
    "            crd -= capital\n",
    "            \n",
    "        return crd\n",
    "        \n",
    "        \n",
    "        \n",
    "df['CRD'] = df.apply(CRD, axis=1)\n",
    "\n",
    "\n",
    "\n",
    "print(df)"
   ],
   "id": "e18a7b12dfc4eecd",
   "outputs": [
    {
     "name": "stdout",
     "output_type": "stream",
     "text": [
      "   Compte  IdPret             Type  DateDebut DateEcheance   Int  Montant  \\\n",
      "0   51200       1           InFine 2020-04-20   2027-04-20  0.03  1000000   \n",
      "1   51201       2  AmortissableLin 2023-12-31   2026-12-31  0.02  2000000   \n",
      "2   51202       3     Amortissable 2010-01-01   2030-01-01  0.05    50000   \n",
      "\n",
      "     IntEx      Duree      Frequence  FrequenceN  NbEchDepuisDebut  \\\n",
      "0  30000.0   6.997947  Trimestrielle           4         18.666667   \n",
      "1  40000.0   3.000684  Trimestrielle           4          4.000000   \n",
      "2   2500.0  20.000000  Trimestrielle           4         59.666667   \n",
      "\n",
      "            CRD  \n",
      "0  1.000000e+06  \n",
      "1  1.333485e+06  \n",
      "2  1.822873e+04  \n"
     ]
    }
   ],
   "execution_count": 14
  },
  {
   "metadata": {},
   "cell_type": "code",
   "outputs": [],
   "execution_count": null,
   "source": [
    "#will be removed later on\n",
    "# Remaining principal (CRD) : while the due date > to exercice date (clot) the value is set to loan amount, else it's zero\n",
    "df[\"CRD\"] = np.where(\n",
    "    (df['Type'] == 'InFine') & (df['DateEcheance'] > clot),\n",
    "    df['Montant'],\n",
    "    0 )\n",
    "\n",
    "df[\"CRD\"] = np.where(\n",
    "    df['Type'] == 'AmortissableLin',\n",
    "    df['Montant'] / ((df['DateEcheance'].dt.year - df['DateDebut'].dt.year) * df['FrequenceN']) * df['NbEchDepuisDebut'], #Montant par échéance * nombre d'échéance passées\n",
    "    0\n",
    ")"
   ],
   "id": "4a6786b63c1d2a58"
  }
 ],
 "metadata": {
  "kernelspec": {
   "display_name": "Python 3",
   "language": "python",
   "name": "python3"
  },
  "language_info": {
   "codemirror_mode": {
    "name": "ipython",
    "version": 2
   },
   "file_extension": ".py",
   "mimetype": "text/x-python",
   "name": "python",
   "nbconvert_exporter": "python",
   "pygments_lexer": "ipython2",
   "version": "2.7.6"
  }
 },
 "nbformat": 4,
 "nbformat_minor": 5
}
